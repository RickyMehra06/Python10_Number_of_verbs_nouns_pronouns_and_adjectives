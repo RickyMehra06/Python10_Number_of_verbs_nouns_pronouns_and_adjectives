{
 "cells": [
  {
   "cell_type": "markdown",
   "id": "17a6c346",
   "metadata": {},
   "source": [
    "### Python 10: Number of verbs, nouns, pronouns, and adjectives \n",
    "\n",
    "Write a program to count the number of verbs, nouns, pronouns, and adjectives in a given particular phrase or paragraph, and return their respective count as a dictionary."
   ]
  },
  {
   "cell_type": "code",
   "execution_count": 1,
   "id": "9d06f57f",
   "metadata": {},
   "outputs": [],
   "source": [
    "import nltk\n",
    "# nltk.download('averaged_perceptron_tagger')\n",
    "from nltk import pos_tag\n",
    "from nltk.tokenize import word_tokenize\n",
    "\n",
    "def count_pos_tags(text):\n",
    "    words = word_tokenize(text)\n",
    "    \n",
    "    tagged_words = pos_tag(words)\n",
    "    \n",
    "    verb_count = 0\n",
    "    noun_count = 0\n",
    "    pronoun_count = 0\n",
    "    adjective_count = 0\n",
    "    \n",
    "    # Count the occurrences of each part-of-speech tag\n",
    "    for word, tag in tagged_words:\n",
    "        if tag.startswith('VB'):  # Verbs\n",
    "            verb_count += 1\n",
    "        elif tag.startswith('NN'):  # Nouns\n",
    "            noun_count += 1\n",
    "        elif tag.startswith('PR'):  # Pronouns\n",
    "            pronoun_count += 1\n",
    "        elif tag.startswith('JJ'):  # Adjectives\n",
    "            adjective_count += 1\n",
    "    \n",
    "    pos_counts={'Verbs': verb_count,\n",
    "                'Nouns': noun_count,\n",
    "                'Pronouns': pronoun_count,\n",
    "                'Adjectives': adjective_count\n",
    "                }\n",
    "    \n",
    "    return pos_counts"
   ]
  },
  {
   "cell_type": "code",
   "execution_count": 2,
   "id": "e74d1858",
   "metadata": {},
   "outputs": [
    {
     "name": "stdout",
     "output_type": "stream",
     "text": [
      "{'Verbs': 4, 'Nouns': 6, 'Pronouns': 1, 'Adjectives': 0}\n"
     ]
    }
   ],
   "source": [
    "# Test case 1:\n",
    "\n",
    "text1 = 'I am planning to visit New Delhi to attend Analytics Vidhya Delhi Hackathon'\n",
    "print(count_pos_tags(text1))"
   ]
  },
  {
   "cell_type": "code",
   "execution_count": 3,
   "id": "fd644fa0",
   "metadata": {},
   "outputs": [
    {
     "name": "stdout",
     "output_type": "stream",
     "text": [
      "{'Verbs': 1, 'Nouns': 3, 'Pronouns': 0, 'Adjectives': 2}\n"
     ]
    }
   ],
   "source": [
    "# Test case 2: \n",
    "\n",
    "text2 = \"The quick brown fox jumps over the lazy dog.\"\n",
    "print(count_pos_tags(text2))"
   ]
  },
  {
   "cell_type": "code",
   "execution_count": 4,
   "id": "bcc8acd8",
   "metadata": {},
   "outputs": [
    {
     "name": "stdout",
     "output_type": "stream",
     "text": [
      "{'Verbs': 7, 'Nouns': 12, 'Pronouns': 1, 'Adjectives': 6}\n"
     ]
    }
   ],
   "source": [
    "# Test case 3: \n",
    "\n",
    "text3 = \"\"\"\n",
    "Natural language processing (NLP) is a subfield of artificial intelligence that focuses on the interaction between computers and humans through natural language. It aims to enable computers to understand, interpret, and generate human language in a valuable and meaningful way.\n",
    "\"\"\"\n",
    "print(count_pos_tags(text3))"
   ]
  }
 ],
 "metadata": {
  "kernelspec": {
   "display_name": "Python 3 (ipykernel)",
   "language": "python",
   "name": "python3"
  },
  "language_info": {
   "codemirror_mode": {
    "name": "ipython",
    "version": 3
   },
   "file_extension": ".py",
   "mimetype": "text/x-python",
   "name": "python",
   "nbconvert_exporter": "python",
   "pygments_lexer": "ipython3",
   "version": "3.9.13"
  }
 },
 "nbformat": 4,
 "nbformat_minor": 5
}
